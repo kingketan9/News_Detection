{
  "nbformat": 4,
  "nbformat_minor": 0,
  "metadata": {
    "colab": {
      "name": "News Classification.ipynb",
      "provenance": [],
      "include_colab_link": true
    },
    "kernelspec": {
      "name": "python3",
      "display_name": "Python 3"
    },
    "language_info": {
      "name": "python"
    }
  },
  "cells": [
    {
      "cell_type": "markdown",
      "metadata": {
        "id": "view-in-github",
        "colab_type": "text"
      },
      "source": [
        "<a href=\"https://colab.research.google.com/github/kingketan9/News_Detection/blob/main/News_Classification.ipynb\" target=\"_parent\"><img src=\"https://colab.research.google.com/assets/colab-badge.svg\" alt=\"Open In Colab\"/></a>"
      ]
    },
    {
      "cell_type": "markdown",
      "source": [
        "# News Classification"
      ],
      "metadata": {
        "id": "cN6LcoJ3pXqI"
      }
    },
    {
      "cell_type": "markdown",
      "source": [
        "Dataset has been collected from Kaggle which contains news articles including their headlines and categories."
      ],
      "metadata": {
        "id": "DN6GY4Uoph7K"
      }
    },
    {
      "cell_type": "markdown",
      "source": [
        "The categories covered in this dataset are:\n",
        "\n",
        "*   Sports\n",
        "*   Business\n",
        "*   Politics\n",
        "*   Technology \n",
        "*   Entertainment \n",
        "\n",
        "\n",
        "\n",
        "\n",
        "\n",
        "\n",
        "\n",
        "\n",
        "\n"
      ],
      "metadata": {
        "id": "V67g6E_7pt1l"
      }
    },
    {
      "cell_type": "markdown",
      "source": [
        "**Count Vectorizer** is used to convert documents, text into vectors of term or token counts, it involves counting the number of occurences of words appears in a document.\n",
        "\n",
        "The **multinomial Naive Bayes** classifier is suitable for classification with discrete features (e.g., word counts for text classification).\n",
        "\n",
        "**train test split** is a model validation procedure that allows you to simulate how a model would perform on new/unseen data."
      ],
      "metadata": {
        "id": "yP1k1ohAr77y"
      }
    },
    {
      "cell_type": "markdown",
      "source": [
        "# Importing librarires"
      ],
      "metadata": {
        "id": "Dc2D0cL5qS3B"
      }
    },
    {
      "cell_type": "code",
      "source": [
        "import pandas as pd\n",
        "import numpy as np\n",
        "from sklearn.feature_extraction.text import CountVectorizer #Convert a collection of text documents to a matrix of token counts\n",
        "from sklearn.model_selection import train_test_split # Split arrays or matrices into random train and test subsets\n",
        "from sklearn.naive_bayes import MultinomialNB\n",
        "\n",
        "data = pd.read_csv(\"https://raw.githubusercontent.com/amankharwal/Website-data/master/bbc-news-data.csv\", sep='\\t')\n",
        "print(data.head())"
      ],
      "metadata": {
        "colab": {
          "base_uri": "https://localhost:8080/"
        },
        "id": "Zu2QbYZHqRr1",
        "outputId": "68ae0d7d-0d37-4aa0-e239-afcf2f63afa0"
      },
      "execution_count": null,
      "outputs": [
        {
          "output_type": "stream",
          "name": "stdout",
          "text": [
            "   category filename                              title  \\\n",
            "0  business  001.txt  Ad sales boost Time Warner profit   \n",
            "1  business  002.txt   Dollar gains on Greenspan speech   \n",
            "2  business  003.txt  Yukos unit buyer faces loan claim   \n",
            "3  business  004.txt  High fuel prices hit BA's profits   \n",
            "4  business  005.txt  Pernod takeover talk lifts Domecq   \n",
            "\n",
            "                                             content  \n",
            "0   Quarterly profits at US media giant TimeWarne...  \n",
            "1   The dollar has hit its highest level against ...  \n",
            "2   The owners of embattled Russian oil giant Yuk...  \n",
            "3   British Airways has blamed high fuel prices f...  \n",
            "4   Shares in UK drinks and food firm Allied Dome...  \n"
          ]
        }
      ]
    },
    {
      "cell_type": "markdown",
      "source": [
        "# Check whether the dataste has any null values or not"
      ],
      "metadata": {
        "id": "DI9VXxRGsvXJ"
      }
    },
    {
      "cell_type": "code",
      "source": [
        "data.isnull().sum()"
      ],
      "metadata": {
        "colab": {
          "base_uri": "https://localhost:8080/"
        },
        "id": "cPWrvvhrsrhT",
        "outputId": "1e086b5e-f943-4999-b888-88e8d10034ef"
      },
      "execution_count": null,
      "outputs": [
        {
          "output_type": "execute_result",
          "data": {
            "text/plain": [
              "category    0\n",
              "filename    0\n",
              "title       0\n",
              "content     0\n",
              "dtype: int64"
            ]
          },
          "metadata": {},
          "execution_count": 17
        }
      ]
    },
    {
      "cell_type": "markdown",
      "source": [
        "# Classifying the labels from this dataset"
      ],
      "metadata": {
        "id": "MUTq7p0dtJgO"
      }
    },
    {
      "cell_type": "code",
      "source": [
        "data[\"category\"].value_counts()"
      ],
      "metadata": {
        "colab": {
          "base_uri": "https://localhost:8080/"
        },
        "id": "1ydNXDLMs9oC",
        "outputId": "797cb126-e570-46ee-d529-baf580964e47"
      },
      "execution_count": null,
      "outputs": [
        {
          "output_type": "execute_result",
          "data": {
            "text/plain": [
              "sport            511\n",
              "business         510\n",
              "politics         417\n",
              "tech             401\n",
              "entertainment    386\n",
              "Name: category, dtype: int64"
            ]
          },
          "metadata": {},
          "execution_count": 18
        }
      ]
    },
    {
      "cell_type": "markdown",
      "source": [
        "# Preparaing the data "
      ],
      "metadata": {
        "id": "XId4fHr4ukkk"
      }
    },
    {
      "cell_type": "markdown",
      "source": [
        "**test_sizefloat or int, default=None**\n",
        "\n",
        "If float, should be between 0.0 and 1.0 and represent the proportion of the dataset to include in the test split. If int, represents the absolute number of test samples. If None, the value is set to the complement of the train size. If train_size is also None, it will be set to 0.25.\n",
        "\n",
        "**train_sizefloat or int, default=None**\n",
        "\n",
        "If float, should be between 0.0 and 1.0 and represent the proportion of the dataset to include in the train split. If int, represents the absolute number of train samples. If None, the value is automatically set to the complement of the test size.\n",
        "\n",
        "**random_stateint, RandomState instance or None, default=None**\n",
        "\n",
        "Controls the shuffling applied to the data before applying the split. Pass an int for reproducible output across multiple function calls. See Glossary."
      ],
      "metadata": {
        "id": "ZLcEYta5vyX7"
      }
    },
    {
      "cell_type": "code",
      "source": [
        "data = data[['title', 'category']]\n",
        "\n",
        "x = np.array(data['title'])\n",
        "y = np.array(data['category'])\n",
        "\n",
        "cv = CountVectorizer()\n",
        "X = cv.fit_transform(x) # Transform documents to document-term matrix. \n",
        "X_train, X_test, y_train, y_test = train_test_split(X, y, test_size = 0.33, random_state= 42)"
      ],
      "metadata": {
        "id": "JBAdaRBEtQqs"
      },
      "execution_count": null,
      "outputs": []
    },
    {
      "cell_type": "markdown",
      "source": [
        "# Train the News Classification model using the **Multinomial Naive Bayes** Algorithm "
      ],
      "metadata": {
        "id": "BY0BwKZywEWi"
      }
    },
    {
      "cell_type": "code",
      "source": [
        "model = MultinomialNB()\n",
        "model.fit(X_train, y_train)"
      ],
      "metadata": {
        "colab": {
          "base_uri": "https://localhost:8080/"
        },
        "id": "OMjd9T4gui8B",
        "outputId": "8288189f-1709-4c0b-921b-5462c03a9283"
      },
      "execution_count": null,
      "outputs": [
        {
          "output_type": "execute_result",
          "data": {
            "text/plain": [
              "MultinomialNB()"
            ]
          },
          "metadata": {},
          "execution_count": 21
        }
      ]
    },
    {
      "cell_type": "markdown",
      "source": [
        "# Testing the model"
      ],
      "metadata": {
        "id": "l3691W29w8u5"
      }
    },
    {
      "cell_type": "code",
      "source": [
        "user = input('Enter a text: ')\n",
        "data = cv.transform([user]).toarray()\n",
        "output = model.predict(data)\n",
        "print(output)"
      ],
      "metadata": {
        "colab": {
          "base_uri": "https://localhost:8080/"
        },
        "id": "K3lHT4M3wbwp",
        "outputId": "a95dd8dc-e8c0-49da-b23a-a15129af9626"
      },
      "execution_count": null,
      "outputs": [
        {
          "output_type": "stream",
          "name": "stdout",
          "text": [
            "Enter a text: Latest Apple iPhone SE 3 concept renders show a compact smartphone in the style of the iPhone 4\n",
            "['tech']\n"
          ]
        }
      ]
    }
  ]
}